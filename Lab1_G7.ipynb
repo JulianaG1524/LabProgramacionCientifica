{
  "nbformat": 4,
  "nbformat_minor": 0,
  "metadata": {
    "colab": {
      "provenance": [],
      "authorship_tag": "ABX9TyN120/5i/AYVDbZr2n5hM84",
      "include_colab_link": true
    },
    "kernelspec": {
      "name": "python3",
      "display_name": "Python 3"
    },
    "language_info": {
      "name": "python"
    }
  },
  "cells": [
    {
      "cell_type": "markdown",
      "metadata": {
        "id": "view-in-github",
        "colab_type": "text"
      },
      "source": [
        "<a href=\"https://colab.research.google.com/github/JulianaG1524/LabProgramacionCientifica/blob/Galeano/Lab1_G7.ipynb\" target=\"_parent\"><img src=\"https://colab.research.google.com/assets/colab-badge.svg\" alt=\"Open In Colab\"/></a>"
      ]
    },
    {
      "cell_type": "code",
      "execution_count": 1,
      "metadata": {
        "colab": {
          "base_uri": "https://localhost:8080/"
        },
        "id": "SvX40ZEboc5Z",
        "outputId": "9bef40c1-c312-414f-e9a4-0626716e1ca0"
      },
      "outputs": [
        {
          "output_type": "stream",
          "name": "stdout",
          "text": [
            "a\n",
            "Juliana\n",
            "a\n",
            "Juliana\n",
            "a\n",
            "Juliana\n",
            "a\n",
            "Juliana\n",
            "a\n",
            "Juliana\n",
            "a\n",
            "Juliana\n",
            "a\n",
            "Juliana\n",
            "a\n",
            "Juliana\n",
            "a\n",
            "Juliana\n",
            "a\n",
            "Juliana\n"
          ]
        }
      ],
      "source": [
        "veces=10\n",
        "for n in range (veces):\n",
        "  print(\"a\")\n",
        "  print(\"Juliana\")"
      ]
    }
  ]
}