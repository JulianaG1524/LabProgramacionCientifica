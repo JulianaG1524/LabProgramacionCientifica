{
  "nbformat": 4,
  "nbformat_minor": 0,
  "metadata": {
    "colab": {
      "provenance": [],
      "include_colab_link": true
    },
    "kernelspec": {
      "name": "python3",
      "display_name": "Python 3"
    },
    "language_info": {
      "name": "python"
    }
  },
  "cells": [
    {
      "cell_type": "markdown",
      "metadata": {
        "id": "view-in-github",
        "colab_type": "text"
      },
      "source": [
        "<a href=\"https://colab.research.google.com/github/JulianaG1524/LabProgramacionCientifica/blob/Ramirez/Lab1_G7.ipynb\" target=\"_parent\"><img src=\"https://colab.research.google.com/assets/colab-badge.svg\" alt=\"Open In Colab\"/></a>"
      ]
    },
    {
      "cell_type": "code",
      "execution_count": 2,
      "metadata": {
        "colab": {
          "base_uri": "https://localhost:8080/"
        },
        "id": "SvX40ZEboc5Z",
        "outputId": "02a8de28-da6b-4b59-c01e-e7286712734a"
      },
      "outputs": [
        {
          "output_type": "stream",
          "name": "stdout",
          "text": [
            "a\n",
            "b\n",
            "a\n",
            "b\n",
            "a\n",
            "b\n",
            "a\n",
            "b\n",
            "a\n",
            "b\n",
            "a\n",
            "b\n",
            "a\n",
            "b\n",
            "a\n",
            "b\n",
            "a\n",
            "b\n",
            "a\n",
            "b\n"
          ]
        }
      ],
      "source": [
        "veces=10\n",
        "for n in range (veces):\n",
        "  print(\"a\")\n",
        "  print(\"b\")"
      ]
    }
  ]
}